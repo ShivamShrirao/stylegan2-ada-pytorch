{
 "cells": [
  {
   "cell_type": "code",
   "execution_count": 2,
   "metadata": {},
   "outputs": [
    {
     "name": "stdout",
     "output_type": "stream",
     "text": [
      "Fri Oct  8 09:36:46 2021       \r\n",
      "+-----------------------------------------------------------------------------+\r\n",
      "| NVIDIA-SMI 470.63.01    Driver Version: 470.63.01    CUDA Version: 11.4     |\r\n",
      "|-------------------------------+----------------------+----------------------+\r\n",
      "| GPU  Name        Persistence-M| Bus-Id        Disp.A | Volatile Uncorr. ECC |\r\n",
      "| Fan  Temp  Perf  Pwr:Usage/Cap|         Memory-Usage | GPU-Util  Compute M. |\r\n",
      "|                               |                      |               MIG M. |\r\n",
      "|===============================+======================+======================|\r\n",
      "|   0  Tesla V100-PCIE...  Off  | 00000001:00:00.0 Off |                    0 |\r\n",
      "| N/A   28C    P0    34W / 250W |      0MiB / 16160MiB |      2%      Default |\r\n",
      "|                               |                      |                  N/A |\r\n",
      "+-------------------------------+----------------------+----------------------+\r\n",
      "                                                                               \r\n",
      "+-----------------------------------------------------------------------------+\r\n",
      "| Processes:                                                                  |\r\n",
      "|  GPU   GI   CI        PID   Type   Process name                  GPU Memory |\r\n",
      "|        ID   ID                                                   Usage      |\r\n",
      "|=============================================================================|\r\n",
      "|  No running processes found                                                 |\r\n",
      "+-----------------------------------------------------------------------------+\r\n"
     ]
    }
   ],
   "source": [
    "!nvidia-smi"
   ]
  },
  {
   "cell_type": "code",
   "execution_count": 3,
   "metadata": {},
   "outputs": [],
   "source": [
    "from PIL import Image, ImageOps\n",
    "from glob import glob\n",
    "from tqdm import tqdm\n",
    "import cv2\n",
    "import numpy as np"
   ]
  },
  {
   "cell_type": "code",
   "execution_count": 10,
   "metadata": {},
   "outputs": [
    {
     "name": "stderr",
     "output_type": "stream",
     "text": [
      "100%|██████████| 1502/1502 [01:11<00:00, 20.94it/s]\n"
     ]
    }
   ],
   "source": [
    "ims = glob(\"../data/model_gan/filtered/full-body/*\")\n",
    "sz = (512, 512)\n",
    "for i in tqdm(ims):\n",
    "    img = Image.open(i)\n",
    "    img.thumbnail(sz)\n",
    "    w,h = img.size\n",
    "    img = np.array(img)\n",
    "    dffw, dffh = sz[0] - w, sz[1] - h\n",
    "    img = cv2.copyMakeBorder(img, dffh//2, dffh - dffh//2, dffw//2, dffw - dffw//2, cv2.BORDER_REPLICATE)\n",
    "    img = Image.fromarray(img)\n",
    "    if img.size != sz:\n",
    "        print(i)\n",
    "    img.save(i.replace('model_gan/filtered', 'gan-db').replace('.webp','.png'))"
   ]
  },
  {
   "cell_type": "code",
   "execution_count": null,
   "metadata": {},
   "outputs": [],
   "source": []
  },
  {
   "cell_type": "code",
   "execution_count": 20,
   "metadata": {
    "scrolled": true
   },
   "outputs": [
    {
     "name": "stdout",
     "output_type": "stream",
     "text": [
      "Collecting psutil\n",
      "  Downloading psutil-5.8.0-cp38-cp38-manylinux2010_x86_64.whl (296 kB)\n",
      "\u001b[K     |████████████████████████████████| 296 kB 4.4 MB/s eta 0:00:01\n",
      "\u001b[?25hInstalling collected packages: psutil\n",
      "Successfully installed psutil-5.8.0\n",
      "Note: you may need to restart the kernel to use updated packages.\n"
     ]
    }
   ],
   "source": [
    "%pip install psutil"
   ]
  },
  {
   "cell_type": "code",
   "execution_count": 3,
   "metadata": {
    "execution": {
     "iopub.execute_input": "2021-10-04T20:46:20.982571Z",
     "iopub.status.busy": "2021-10-04T20:46:20.982313Z",
     "iopub.status.idle": "2021-10-04T20:46:36.508641Z",
     "shell.execute_reply": "2021-10-04T20:46:36.507462Z",
     "shell.execute_reply.started": "2021-10-04T20:46:20.982545Z"
    },
    "scrolled": true
   },
   "outputs": [
    {
     "name": "stdout",
     "output_type": "stream",
     "text": [
      "Cloning into 'stylegan2-ada-pytorch'...\n",
      "remote: Enumerating objects: 125, done.\u001b[K\n",
      "remote: Total 125 (delta 0), reused 0 (delta 0), pack-reused 125\u001b[K\n",
      "Receiving objects: 100% (125/125), 1.12 MiB | 7.05 MiB/s, done.\n",
      "Resolving deltas: 100% (55/55), done.\n",
      "Note: you may need to restart the kernel to use updated packages.\n"
     ]
    }
   ],
   "source": [
    "!git clone https://github.com/NVlabs/stylegan2-ada-pytorch\n",
    "%pip install -q click requests tqdm pyspng ninja imageio-ffmpeg==0.4.3"
   ]
  },
  {
   "cell_type": "code",
   "execution_count": 15,
   "metadata": {
    "execution": {
     "iopub.execute_input": "2021-10-04T20:46:36.511671Z",
     "iopub.status.busy": "2021-10-04T20:46:36.511126Z",
     "iopub.status.idle": "2021-10-04T20:46:36.519519Z",
     "shell.execute_reply": "2021-10-04T20:46:36.518326Z",
     "shell.execute_reply.started": "2021-10-04T20:46:36.511611Z"
    },
    "scrolled": true
   },
   "outputs": [
    {
     "name": "stdout",
     "output_type": "stream",
     "text": [
      "/home/azureuser/stylegan2-ada-pytorch\n"
     ]
    }
   ],
   "source": [
    "%cd ../stylegan2-ada-pytorch"
   ]
  },
  {
   "cell_type": "code",
   "execution_count": 16,
   "metadata": {},
   "outputs": [
    {
     "name": "stdout",
     "output_type": "stream",
     "text": [
      "100%|███████████████████████████████████████| 6319/6319 [01:48<00:00, 58.13it/s]\n"
     ]
    }
   ],
   "source": [
    "!python dataset_tool.py --source /home/azureuser/data/gan-clothes-db/ --dest /home/azureuser/data/gan-proc-new.zip"
   ]
  },
  {
   "cell_type": "code",
   "execution_count": 18,
   "metadata": {
    "execution": {
     "iopub.execute_input": "2021-10-04T20:46:36.521756Z",
     "iopub.status.busy": "2021-10-04T20:46:36.521228Z",
     "iopub.status.idle": "2021-10-04T21:03:40.409185Z",
     "shell.execute_reply": "2021-10-04T21:03:40.408081Z",
     "shell.execute_reply.started": "2021-10-04T20:46:36.521712Z"
    }
   },
   "outputs": [
    {
     "name": "stdout",
     "output_type": "stream",
     "text": [
      "100%|███████████████████████████████████████| 6319/6319 [12:13<00:00,  8.61it/s]\n"
     ]
    }
   ],
   "source": [
    "!python dataset_tool.py --source /home/azureuser/data/gan-clothes-db/ --dest /home/azureuser/data/gan-proc.zip \\\n",
    "    --transform=center-crop --width 512 --height 512"
   ]
  },
  {
   "cell_type": "code",
   "execution_count": null,
   "metadata": {},
   "outputs": [],
   "source": []
  }
 ],
 "metadata": {
  "kernelspec": {
   "display_name": "Python 3",
   "language": "python",
   "name": "python3"
  },
  "language_info": {
   "codemirror_mode": {
    "name": "ipython",
    "version": 3
   },
   "file_extension": ".py",
   "mimetype": "text/x-python",
   "name": "python",
   "nbconvert_exporter": "python",
   "pygments_lexer": "ipython3",
   "version": "3.8.11"
  }
 },
 "nbformat": 4,
 "nbformat_minor": 4
}
