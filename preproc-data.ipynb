{
 "cells": [
  {
   "cell_type": "code",
   "execution_count": 1,
   "metadata": {},
   "outputs": [
    {
     "name": "stdout",
     "output_type": "stream",
     "text": [
      "Sat Oct  9 07:54:33 2021       \r\n",
      "+-----------------------------------------------------------------------------+\r\n",
      "| NVIDIA-SMI 470.63.01    Driver Version: 470.63.01    CUDA Version: 11.4     |\r\n",
      "|-------------------------------+----------------------+----------------------+\r\n",
      "| GPU  Name        Persistence-M| Bus-Id        Disp.A | Volatile Uncorr. ECC |\r\n",
      "| Fan  Temp  Perf  Pwr:Usage/Cap|         Memory-Usage | GPU-Util  Compute M. |\r\n",
      "|                               |                      |               MIG M. |\r\n",
      "|===============================+======================+======================|\r\n",
      "|   0  Tesla V100-PCIE...  Off  | 00000001:00:00.0 Off |                    0 |\r\n",
      "| N/A   60C    P0   230W / 250W |  11509MiB / 16160MiB |     96%      Default |\r\n",
      "|                               |                      |                  N/A |\r\n",
      "+-------------------------------+----------------------+----------------------+\r\n",
      "                                                                               \r\n",
      "+-----------------------------------------------------------------------------+\r\n",
      "| Processes:                                                                  |\r\n",
      "|  GPU   GI   CI        PID   Type   Process name                  GPU Memory |\r\n",
      "|        ID   ID                                                   Usage      |\r\n",
      "|=============================================================================|\r\n",
      "|    0   N/A  N/A     30415      C   python                          11505MiB |\r\n",
      "+-----------------------------------------------------------------------------+\r\n"
     ]
    }
   ],
   "source": [
    "!nvidia-smi"
   ]
  },
  {
   "cell_type": "code",
   "execution_count": 2,
   "metadata": {},
   "outputs": [],
   "source": [
    "from PIL import Image, ImageOps\n",
    "from glob import glob\n",
    "from tqdm import tqdm\n",
    "import cv2\n",
    "import numpy as np"
   ]
  },
  {
   "cell_type": "code",
   "execution_count": 3,
   "metadata": {},
   "outputs": [],
   "source": [
    "!rm -r ../data/gan-db/full-body/\n",
    "!mkdir ../data/gan-db/full-body/"
   ]
  },
  {
   "cell_type": "code",
   "execution_count": 4,
   "metadata": {},
   "outputs": [
    {
     "name": "stderr",
     "output_type": "stream",
     "text": [
      "100%|██████████| 1490/1490 [04:47<00:00,  5.19it/s]\n"
     ]
    }
   ],
   "source": [
    "ims = glob(\"../data/model_gan/filtered/full-body/*\")\n",
    "sz = (1024, 1024)\n",
    "for i in tqdm(ims):\n",
    "    img = Image.open(i)\n",
    "    img.thumbnail(sz, Image.LANCZOS, reducing_gap=3.0)\n",
    "    w,h = img.size\n",
    "    img = np.array(img)\n",
    "    dffw, dffh = sz[0] - w, sz[1] - h\n",
    "    img = cv2.copyMakeBorder(img, dffh//2, dffh - dffh//2, dffw//2, dffw - dffw//2, cv2.BORDER_REPLICATE)\n",
    "    img = Image.fromarray(img)\n",
    "    if img.size != sz:\n",
    "        print(i)\n",
    "    img.save(i.replace('model_gan/filtered', 'gan-db').replace('.webp','.png'), quality=100, subsampling=0)"
   ]
  },
  {
   "cell_type": "code",
   "execution_count": 11,
   "metadata": {
    "execution": {
     "iopub.execute_input": "2021-10-04T20:46:36.511671Z",
     "iopub.status.busy": "2021-10-04T20:46:36.511126Z",
     "iopub.status.idle": "2021-10-04T20:46:36.519519Z",
     "shell.execute_reply": "2021-10-04T20:46:36.518326Z",
     "shell.execute_reply.started": "2021-10-04T20:46:36.511611Z"
    },
    "scrolled": true
   },
   "outputs": [
    {
     "name": "stdout",
     "output_type": "stream",
     "text": [
      "/home/azureuser/stylegan2-ada-pytorch\n"
     ]
    }
   ],
   "source": [
    "# %cd ../stylegan2-ada-pytorch"
   ]
  },
  {
   "cell_type": "code",
   "execution_count": 16,
   "metadata": {},
   "outputs": [
    {
     "name": "stdout",
     "output_type": "stream",
     "text": [
      "100%|███████████████████████████████████████| 6319/6319 [01:48<00:00, 58.13it/s]\n"
     ]
    }
   ],
   "source": [
    "# !python dataset_tool.py --source /home/azureuser/data/gan-clothes-db/ --dest /home/azureuser/data/gan-proc-new.zip"
   ]
  },
  {
   "cell_type": "code",
   "execution_count": 12,
   "metadata": {
    "execution": {
     "iopub.execute_input": "2021-10-04T20:46:36.521756Z",
     "iopub.status.busy": "2021-10-04T20:46:36.521228Z",
     "iopub.status.idle": "2021-10-04T21:03:40.409185Z",
     "shell.execute_reply": "2021-10-04T21:03:40.408081Z",
     "shell.execute_reply.started": "2021-10-04T20:46:36.521712Z"
    }
   },
   "outputs": [],
   "source": [
    "# !python dataset_tool.py --source /home/azureuser/data/gan-clothes-db/ --dest /home/azureuser/data/gan-proc.zip \\\n",
    "#     --transform=center-crop --width 512 --height 512"
   ]
  },
  {
   "cell_type": "code",
   "execution_count": null,
   "metadata": {},
   "outputs": [],
   "source": []
  }
 ],
 "metadata": {
  "kernelspec": {
   "display_name": "Python 3",
   "language": "python",
   "name": "python3"
  },
  "language_info": {
   "codemirror_mode": {
    "name": "ipython",
    "version": 3
   },
   "file_extension": ".py",
   "mimetype": "text/x-python",
   "name": "python",
   "nbconvert_exporter": "python",
   "pygments_lexer": "ipython3",
   "version": "3.8.11"
  }
 },
 "nbformat": 4,
 "nbformat_minor": 4
}
